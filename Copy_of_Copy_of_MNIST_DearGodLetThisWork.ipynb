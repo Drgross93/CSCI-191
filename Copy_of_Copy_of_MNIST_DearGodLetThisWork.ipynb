{
  "nbformat": 4,
  "nbformat_minor": 0,
  "metadata": {
    "colab": {
      "name": "Copy of Copy of MNIST_DearGodLetThisWork.ipynb",
      "provenance": [],
      "mount_file_id": "1wTo1SVYd3FWCw4gmq1xdOAeqT5Fp2p0U",
      "authorship_tag": "ABX9TyPUr+KYEead4pH4fbDk9FAT",
      "include_colab_link": true
    },
    "kernelspec": {
      "name": "python3",
      "display_name": "Python 3"
    },
    "language_info": {
      "name": "python"
    }
  },
  "cells": [
    {
      "cell_type": "markdown",
      "metadata": {
        "id": "view-in-github",
        "colab_type": "text"
      },
      "source": [
        "<a href=\"https://colab.research.google.com/github/Drgross93/CSCI-191/blob/main/Copy_of_Copy_of_MNIST_DearGodLetThisWork.ipynb\" target=\"_parent\"><img src=\"https://colab.research.google.com/assets/colab-badge.svg\" alt=\"Open In Colab\"/></a>"
      ]
    },
    {
      "cell_type": "code",
      "metadata": {
        "id": "fR_HyhcZVIgz"
      },
      "source": [
        "#Daniel Gross 11/28/21\n",
        "#Built for kaggle competition, featuring code supplied by David Ruby\n"
      ],
      "execution_count": null,
      "outputs": []
    },
    {
      "cell_type": "code",
      "metadata": {
        "id": "UPQF35SAspYQ"
      },
      "source": [
        "import numpy as np\n",
        "import matplotlib.pyplot as plt\n",
        "\n",
        "import pandas as pd\n",
        "\n",
        "from sklearn.decomposition import PCA\n",
        "from sklearn import datasets\n",
        "\n",
        "from sklearn.linear_model import LogisticRegression\n",
        "from sklearn.metrics import accuracy_score\n",
        "from sklearn.neural_network import MLPClassifier"
      ],
      "execution_count": null,
      "outputs": []
    },
    {
      "cell_type": "markdown",
      "metadata": {
        "id": "JYaozT3oWnzk"
      },
      "source": [
        "This is just the includes."
      ]
    },
    {
      "cell_type": "code",
      "metadata": {
        "id": "QPQ9L3UbtZlK"
      },
      "source": [
        "mnist = pd.read_csv('/content/drive/MyDrive/Colab Notebooks/MNIST_train.csv')\n",
        "data = mnist.values"
      ],
      "execution_count": null,
      "outputs": []
    },
    {
      "cell_type": "code",
      "metadata": {
        "colab": {
          "base_uri": "https://localhost:8080/"
        },
        "id": "cJqoh8wt3_Pp",
        "outputId": "59b28edd-d735-4031-b189-aebae1879837"
      },
      "source": [
        "rnd_pca = PCA(n_components=36)\n",
        "rnd_pca.fit(data[:,1:])\n",
        "X_reduced = rnd_pca.transform(data[:,1:])\n"
      ],
      "execution_count": null,
      "outputs": [
        {
          "output_type": "stream",
          "name": "stdout",
          "text": [
            "(42000, 36)\n"
          ]
        }
      ]
    },
    {
      "cell_type": "code",
      "metadata": {
        "id": "LMxirjAvG8Zi"
      },
      "source": [
        "clf1 = LogisticRegression(solver='saga', max_iter=10000)\n",
        "clf1.fit(X_reduced, data[:, 0] )"
      ],
      "execution_count": null,
      "outputs": []
    },
    {
      "cell_type": "code",
      "metadata": {
        "colab": {
          "base_uri": "https://localhost:8080/"
        },
        "id": "Xnn3d2PrHTai",
        "outputId": "bfbf8dc9-4e93-4033-ce98-d975747edda7"
      },
      "source": [
        "predict = clf1.predict(X_reduced)\n",
        "print(\"Accuracy = \", accuracy_score(predict, data[:, 0]))"
      ],
      "execution_count": null,
      "outputs": [
        {
          "output_type": "stream",
          "name": "stdout",
          "text": [
            "Accuracy =  0.8929761904761905\n"
          ]
        }
      ]
    },
    {
      "cell_type": "markdown",
      "metadata": {
        "id": "qCe6OYqLWxcy"
      },
      "source": [
        "Using Logistic regression, This model produceda submission that scored just shy of 90%.![Capture.PNG](data:image/png;base64,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)"
      ]
    },
    {
      "cell_type": "code",
      "metadata": {
        "colab": {
          "base_uri": "https://localhost:8080/"
        },
        "id": "C9BAU0xeHooL",
        "outputId": "934ae466-6ae8-46b3-dd4e-70d0a381753f"
      },
      "source": [
        "mnistTest = pd.read_csv('/content/drive/MyDrive/Colab Notebooks/MNIST_test.csv')\n",
        "test = mnistTest.values\n",
        "XTest_reduced = rnd_pca.transform(test)\n",
        "predict = clf1.predict(XTest_reduced)"
      ],
      "execution_count": null,
      "outputs": [
        {
          "output_type": "stream",
          "name": "stdout",
          "text": [
            "(28000, 36)\n"
          ]
        }
      ]
    },
    {
      "cell_type": "code",
      "metadata": {
        "id": "318tPC6bHtFc"
      },
      "source": [
        "mnistTest.info()\n",
        "mnistTest.index.name='ImageId'\n",
        "mnistTest['label']=predict\n",
        "mnistTest.index+=1\n",
        "mnistTest['label'].to_csv('Mnist2x2.csv', index=True, header=True)"
      ],
      "execution_count": null,
      "outputs": []
    },
    {
      "cell_type": "code",
      "metadata": {
        "colab": {
          "base_uri": "https://localhost:8080/"
        },
        "id": "c-xTHnnPXsuq",
        "outputId": "c125beec-81b8-4708-868a-4624fd8e2bb1"
      },
      "source": [
        "clf1 = MLPClassifier(hidden_layer_sizes=(10), random_state=1, max_iter=10000)\n",
        "clf1 = LogisticRegression(max_iter=10000)\n",
        "clf1.fit(X_reduced, data[:, 0] )\n",
        "\n",
        "\n"
      ],
      "execution_count": null,
      "outputs": [
        {
          "output_type": "execute_result",
          "data": {
            "text/plain": [
              "LogisticRegression(max_iter=10000)"
            ]
          },
          "metadata": {},
          "execution_count": 16
        }
      ]
    },
    {
      "cell_type": "code",
      "metadata": {
        "colab": {
          "base_uri": "https://localhost:8080/"
        },
        "id": "q4RgJX-FXsur",
        "outputId": "e18f9e7c-3e51-4d78-e711-8dd34cbe2018"
      },
      "source": [
        "predict = clf1.predict(X_reduced)\n",
        "print(\"Accuracy = \", accuracy_score(predict, data[:, 0]))"
      ],
      "execution_count": null,
      "outputs": [
        {
          "output_type": "stream",
          "name": "stdout",
          "text": [
            "Accuracy =  0.9013809523809524\n"
          ]
        }
      ]
    },
    {
      "cell_type": "code",
      "metadata": {
        "id": "tWhG1vVrXsus"
      },
      "source": [
        "mnistTest = pd.read_csv('/content/drive/MyDrive/Colab Notebooks/MNIST_test.csv')\n",
        "test = mnistTest.values\n",
        "XTest_reduced = rnd_pca.transform(test)\n",
        "predict = clf1.predict(XTest_reduced)"
      ],
      "execution_count": null,
      "outputs": []
    },
    {
      "cell_type": "code",
      "metadata": {
        "colab": {
          "base_uri": "https://localhost:8080/"
        },
        "id": "JxOXt8kqXsut",
        "outputId": "c9a41b23-5f48-4734-f7c5-2e5a6edd2ffa"
      },
      "source": [
        "mnistTest.info()\n",
        "mnistTest.index.name='ImageId'\n",
        "mnistTest['label']=predict\n",
        "mnistTest.index+=1\n",
        "mnistTest['label'].to_csv('Mnist2x2_MLP.csv', index=True, header=True)"
      ],
      "execution_count": null,
      "outputs": [
        {
          "output_type": "stream",
          "name": "stdout",
          "text": [
            "<class 'pandas.core.frame.DataFrame'>\n",
            "RangeIndex: 28000 entries, 0 to 27999\n",
            "Columns: 784 entries, pixel0 to pixel783\n",
            "dtypes: int64(784)\n",
            "memory usage: 167.5 MB\n"
          ]
        }
      ]
    },
    {
      "cell_type": "markdown",
      "metadata": {
        "id": "onpeAbikeDbz"
      },
      "source": [
        "Using MLP classifier,this model produced a submission that scored 89.775%, again just short of 90%. ![Capture2.PNG](data:image/png;base64,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)"
      ]
    },
    {
      "cell_type": "code",
      "metadata": {
        "id": "iFZTIRBNeDPv"
      },
      "source": [
        ""
      ],
      "execution_count": null,
      "outputs": []
    }
  ]
}