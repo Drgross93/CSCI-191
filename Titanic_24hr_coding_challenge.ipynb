{
  "nbformat": 4,
  "nbformat_minor": 0,
  "metadata": {
    "colab": {
      "name": "Titanic_24hr_coding_challenge.ipynb",
      "provenance": [],
      "collapsed_sections": [],
      "mount_file_id": "1_D1zUzr2iFAWTeENQq66EHez-Xtkmf8-",
      "authorship_tag": "ABX9TyMPTjPb5Eie/IbIoNj8EJ1h",
      "include_colab_link": true
    },
    "kernelspec": {
      "name": "python3",
      "display_name": "Python 3"
    },
    "language_info": {
      "name": "python"
    }
  },
  "cells": [
    {
      "cell_type": "markdown",
      "metadata": {
        "id": "view-in-github",
        "colab_type": "text"
      },
      "source": [
        "<a href=\"https://colab.research.google.com/github/Drgross93/CSCI-191/blob/main/Titanic_24hr_coding_challenge.ipynb\" target=\"_parent\"><img src=\"https://colab.research.google.com/assets/colab-badge.svg\" alt=\"Open In Colab\"/></a>"
      ]
    },
    {
      "cell_type": "code",
      "metadata": {
        "id": "sVrLgaXSe2H2"
      },
      "source": [
        "# Danie Gross, 11/28/21\n",
        "# OC DO NOT STEAL\n",
        "### Includes\n",
        "%matplotlib inline\n",
        "import matplotlib.pyplot as plt\n",
        "import math as math\n",
        "import numpy as np\n",
        "import pandas as pd\n",
        "import sklearn\n",
        "from sklearn.linear_model import LogisticRegression\n",
        "from sklearn.neural_network import MLPClassifier"
      ],
      "execution_count": 57,
      "outputs": []
    },
    {
      "cell_type": "code",
      "metadata": {
        "id": "Ydy4AdKbrYCm"
      },
      "source": [
        "train_data_raw = pd.read_csv('/content/drive/MyDrive/Colab Notebooks/train.csv')\n",
        "training_datax = pd.get_dummies(train_data_raw[[\"PassengerId\",\"Pclass\",\"Sex\",\"Age\",\"Parch\",\"Fare\",\"Embarked\"]]).values.tolist()\n",
        "training_datay = np.array(pd.get_dummies(train_data_raw[[\"Survived\"]]).values.tolist())\n",
        "\n",
        "ageData = [x[0] for x in (pd.get_dummies(train_data_raw[[\"Age\"]]).values.tolist()) if (math.isnan(x[0]) != True)] #cleaning up NaN in the age field\n",
        "avgAge = sum(ageData)/len(ageData)\n",
        "for x in training_datax:\n",
        "  if(math.isnan(x[2])):\n",
        "    x[2] = avgAge\n",
        "\n",
        "fareData = [x[0] for x in (pd.get_dummies(train_data_raw[[\"Fare\"]]).values.tolist()) if (math.isnan(x[0]) != True)] #cleaning up NaN in the fare field\n",
        "avgFare = sum(fareData)/len(fareData)\n",
        "for x in test_datax:\n",
        "  if(math.isnan(x[4])):\n",
        "    x[4] = avgFare\n",
        "\n",
        "\n",
        "\n",
        "test_data_raw = pd.read_csv('/content/drive/MyDrive/Colab Notebooks/test.csv')\n",
        "test_datax = pd.get_dummies(test_data_raw[[\"PassengerId\",\"Pclass\",\"Sex\",\"Age\",\"Parch\",\"Fare\",\"Embarked\"]]).values.tolist()\n",
        "test_datax = pd.get_dummies(test_data_raw[[\"PassengerId\",\"Pclass\",\"Sex\",\"Age\",\"Parch\",\"Fare\",\"Embarked\"]]).values.tolist()\n",
        "ageData = [x[0] for x in (pd.get_dummies(test_data_raw[[\"Age\"]]).values.tolist()) if (math.isnan(x[0]) != True)] #cleaning up NaN in the age field\n",
        "avgAge = sum(ageData)/len(ageData)\n",
        "for x in test_datax:\n",
        "  if(math.isnan(x[2])):\n",
        "    x[2] = avgAge\n",
        "\n",
        "fareData = [x[0] for x in (pd.get_dummies(test_data_raw[[\"Fare\"]]).values.tolist()) if (math.isnan(x[0]) != True)] #cleaning up NaN in the fare field\n",
        "avgFare = sum(fareData)/len(fareData)\n",
        "for x in test_datax:\n",
        "  if(math.isnan(x[4])):\n",
        "    x[4] = avgFare\n",
        "\n",
        "\n",
        "\n",
        "\n"
      ],
      "execution_count": 63,
      "outputs": []
    },
    {
      "cell_type": "markdown",
      "metadata": {
        "id": "8AXuaIOaEgnB"
      },
      "source": [
        "Here, I clean up the fields with NaNs present by averagint he the whole field and substituting that wherever one popped up. "
      ]
    },
    {
      "cell_type": "code",
      "metadata": {
        "id": "5GP2NHLJ-sRS"
      },
      "source": [
        "#for x in test_datax:\n",
        "#  for y in x:\n",
        "#    if (math.isnan(y)):\n",
        "#      print(x)\n",
        "\n",
        "\n",
        "#regression_correct = 0;\n",
        "#for x in range(len(training_datay)):\n",
        "#  if(training_datay[x] == regression_predictions[x]):\n",
        "#    regression_correct+=1;\n",
        "\n",
        "\n",
        "\n",
        "print(\"What did I JUST say?\")"
      ],
      "execution_count": 43,
      "outputs": []
    },
    {
      "cell_type": "markdown",
      "metadata": {
        "id": "tRQ2JK9mF1-K"
      },
      "source": [
        "This cell is just a dumping groud for bits of code. don't run this."
      ]
    },
    {
      "cell_type": "code",
      "metadata": {
        "id": "XSegS-npFOEV"
      },
      "source": [
        "regrmodel = LogisticRegression(max_iter=10000)\n",
        "regrmodel.fit(training_datax, np.ravel(training_datay))\n",
        "regression_predictions = regrmodel.predict(test_datax)\n",
        "\n",
        "rows = zip([int(x[0]) for x in test_datax],regression_predictions)\n",
        "new_csv = pd.DataFrame(rows, columns=[\"PassengerId\",\"Survived\"])\n",
        "new_csv.to_csv(\"submission_LogisticRegression.csv\", index=False)"
      ],
      "execution_count": 90,
      "outputs": []
    },
    {
      "cell_type": "markdown",
      "metadata": {
        "id": "jSvqPyAKFoT2"
      },
      "source": [
        "Using logistic regression, the accuracy score on this one was aprox. 76%.\n"
      ]
    },
    {
      "cell_type": "code",
      "metadata": {
        "id": "UlTbZlJjFxPP"
      },
      "source": [
        "MLP_model = MLPClassifier(hidden_layer_sizes=(10), random_state=1, max_iter=10000)\n",
        "MLP_model.fit(training_datax, np.ravel(training_datay))\n",
        "MLP_model_predictions = MLP_model.predict(test_datax)\n",
        "\n",
        "rows = zip([int(x[0]) for x in test_datax],MLP_model_predictions)\n",
        "new_csv = pd.DataFrame(rows, columns=[\"PassengerId\",\"Survived\"])\n",
        "new_csv.to_csv(\"submissionMLP.csv\", index=False)"
      ],
      "execution_count": 91,
      "outputs": []
    },
    {
      "cell_type": "markdown",
      "metadata": {
        "id": "NIcU5U8VbQlo"
      },
      "source": [
        "Using an MLP classifier, the accuracy score on this one was about 74%."
      ]
    }
  ]
}