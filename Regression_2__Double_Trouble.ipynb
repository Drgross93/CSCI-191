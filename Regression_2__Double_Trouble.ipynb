{
  "nbformat": 4,
  "nbformat_minor": 0,
  "metadata": {
    "colab": {
      "name": "Regression_2:_Double_Trouble.ipynb",
      "provenance": [],
      "mount_file_id": "1jFg3KKqxMt1BA8lUgQ6viK_v6V0ciKZC",
      "authorship_tag": "ABX9TyPddcJnOsOhBVe6hKl0Y1zZ",
      "include_colab_link": true
    },
    "kernelspec": {
      "name": "python3",
      "display_name": "Python 3"
    },
    "language_info": {
      "name": "python"
    }
  },
  "cells": [
    {
      "cell_type": "markdown",
      "metadata": {
        "id": "view-in-github",
        "colab_type": "text"
      },
      "source": [
        "<a href=\"https://colab.research.google.com/github/OmarFloresE/SimulationProjects/blob/main/Regression_2__Double_Trouble.ipynb\" target=\"_parent\"><img src=\"https://colab.research.google.com/assets/colab-badge.svg\" alt=\"Open In Colab\"/></a>"
      ]
    },
    {
      "cell_type": "markdown",
      "metadata": {
        "id": "FuJoqVAOdnxl"
      },
      "source": [
        " This notebook runs while mounted to google drive. I think there is a way to fetch the irs data directly, but this is a useful tool as well. To get the data out of the CSV I used pandas. It's quite useful. https://pandas.pydata.org/pandas-docs/version/0.15/tutorials.html"
      ]
    },
    {
      "cell_type": "code",
      "metadata": {
        "id": "gLCoJ3wyKis8"
      },
      "source": [
        "# Danie Gross, 9/16/21\n",
        "# OC DO NOT STEAL\n",
        "### Includes\n",
        "%matplotlib inline\n",
        "import matplotlib.pyplot as plt\n",
        "import math as math\n",
        "import numpy as np\n",
        "import pandas as pd"
      ],
      "execution_count": 2,
      "outputs": []
    },
    {
      "cell_type": "code",
      "metadata": {
        "id": "DVPXmFoI_c9i"
      },
      "source": [
        ""
      ],
      "execution_count": null,
      "outputs": []
    },
    {
      "cell_type": "code",
      "metadata": {
        "id": "EAPMMAZiNOg7"
      },
      "source": [
        "F = lambda W, X: sum([w*x for w,x in zip(W,X)])\n",
        "g = lambda y :1/(1+ np.exp(math.e*-y))\n",
        "def k(x):\n",
        "    if (x>.5):\n",
        "      return(1)\n",
        "    else:\n",
        "      return (0)"
      ],
      "execution_count": 3,
      "outputs": []
    },
    {
      "cell_type": "markdown",
      "metadata": {
        "id": "k1Gj75CQ9YbY"
      },
      "source": [
        "In this next cell I set up the iris data using some list comprehensions. This is done by splitting data into three arrays, one for each classification, and then recombining them in pairs. The code also changes the classification so it is always '0' and '1'."
      ]
    },
    {
      "cell_type": "code",
      "metadata": {
        "id": "V549CdS8nwus"
      },
      "source": [
        "iris_df = pd.read_csv('/content/drive/MyDrive/Colab Notebooks/iris.csv', header = None)\n",
        "iris_List = iris_df.values.tolist()\n",
        "TempData0  = [[[1,x[0],x[1],x[2],x[3]],0] for x in iris_List if ((x[4]=='Iris-setosa'))]\n",
        "TempData1  = [[[1,x[0],x[1],x[2],x[3]],1] for x in iris_List if ((x[4]=='Iris-versicolor'))]\n",
        "TempData2  = [[[1,x[0],x[1],x[2],x[3]],2] for x in iris_List if ((x[4]=='Iris-virginica'))]\n",
        "data_all = TempData0 + TempData1 + TempData2\n",
        "data0 = TempData0 + TempData1    #This dataset contains setosa and versicolor\n",
        "data1 = TempData1 + TempData2    #This dataset contains virginica and versicolor\n",
        "data1 = [(x,y-1) for x,y in data1]\n",
        "data2 = TempData0 + TempData2    #This dataset contains setosa and virginica\n",
        "data2 = [(x,int(y/2)) for x,y in data2]"
      ],
      "execution_count": 4,
      "outputs": []
    },
    {
      "cell_type": "code",
      "metadata": {
        "id": "q5awocT3QHz0"
      },
      "source": [
        "X0 = [d for d,_ in data0]\n",
        "Y0 = [(d[2]) for d,_ in data0]\n",
        "CAT0 = [x for _,x in data0]\n",
        "model0 = [0.0001, 0.0001, 0.0001, 0.0001, 0.0001] \n",
        "Prediction0 = [g(F(model0, x)) for x,_ in data0]\n",
        "\n",
        "X1 = [d for d,_ in data1]\n",
        "Y1 = [(d[2]) for d,_ in data1]\n",
        "CAT1 = [x for _,x in data1]\n",
        "model1 = [0.0001, 0.0001, 0.0001, 0.0001, 0.0001] \n",
        "Prediction1 = [g(F(model1, x)) for x,_ in data1]\n",
        "\n",
        "X2 = [d for d,_ in data2]\n",
        "Y2 = [(d[2]) for d,_ in data2]\n",
        "CAT2 = [x for _,x in data2]\n",
        "model2 = [0.0001, 0.0001, 0.0001, 0.0001, 0.0001] \n",
        "Prediction2 = [g(F(model2, x)) for x,_ in data2]\n",
        "\n",
        "alpha = .0004\n",
        "iteration = 0\n",
        "iterations = []\n",
        "deltaX0s = []\n",
        "deltaX1s = []\n",
        "deltaX2s = []\n",
        "accuracy0 = []\n",
        "accuracy1 = []\n",
        "accuracy2 = []\n"
      ],
      "execution_count": 296,
      "outputs": []
    },
    {
      "cell_type": "markdown",
      "metadata": {
        "id": "WeBf6K9IpwPR"
      },
      "source": [
        "I don't know if it's possible, to have the same sort of pleasing graph with a line clearly delineating the separation between classes, with a 4 featured dataset. What I've done instead is included code to work on just two features, and code to test the accuracy of it's output. I've applied that same code to the new, 4 featured,model. This model uses the squared error derived gradient."
      ]
    },
    {
      "cell_type": "markdown",
      "metadata": {
        "id": "CW3TL6vNUsTu"
      },
      "source": [
        "You'll see below that two of the classifications find a complete differentiation after very few iterations while the third takes much longer."
      ]
    },
    {
      "cell_type": "code",
      "metadata": {
        "colab": {
          "base_uri": "https://localhost:8080/",
          "height": 338
        },
        "id": "VU6n0Y3WYirh",
        "outputId": "006d1d86-b894-4b09-c7f8-dd32cdfe541b"
      },
      "source": [
        "for _ in range(10):\n",
        "  Prediction0 = [g(F(model0, x)) for x,_ in data0]\n",
        "  YypX = list(zip(CAT0, Prediction0, X0))\n",
        "  deltaX0 = -2*sum( [(r-y)*y*(1-y)*x[0] for r,y,x in YypX] )\n",
        "  deltaX1 = -2*sum( [(r-y)*y*(1-y)*x[1] for r,y,x in YypX] )\n",
        "  deltaX2 = -2*sum( [(r-y)*y*(1-y)*x[2] for r,y,x in YypX] )\n",
        "  deltaX3 = -2*sum( [(r-y)*y*(1-y)*x[3] for r,y,x in YypX] )\n",
        "  deltaX4 = -2*sum( [(r-y)*y*(1-y)*x[4] for r,y,x in YypX] )\n",
        "  model0 = [model0[0]-(alpha*deltaX0), model0[1]-(alpha*deltaX1), model0[2]-(alpha*deltaX2), model0[4]-(alpha*deltaX3), model0[4]-(alpha*deltaX4)]\n",
        "  \n",
        "  Prediction1 = [g(F(model1, x)) for x,_ in data1]\n",
        "  YypX = list(zip(CAT1, Prediction1, X1))\n",
        "  deltaX0 = -2*sum( [(r-y)*y*(1-y)*x[0] for r,y,x in YypX] )\n",
        "  deltaX1 = -2*sum( [(r-y)*y*(1-y)*x[1] for r,y,x in YypX] )\n",
        "  deltaX2 = -2*sum( [(r-y)*y*(1-y)*x[2] for r,y,x in YypX] )\n",
        "  deltaX3 = -2*sum( [(r-y)*y*(1-y)*x[3] for r,y,x in YypX] )\n",
        "  deltaX4 = -2*sum( [(r-y)*y*(1-y)*x[4] for r,y,x in YypX] )\n",
        "  model1 = [model1[0]-(alpha*deltaX0), model1[1]-(alpha*deltaX1), model1[2]-(alpha*deltaX2), model1[3]-(alpha*deltaX3), model1[4]-(alpha*deltaX4)]\n",
        "  \n",
        "  Prediction2 = [g(F(model2, x)) for x,_ in data2]\n",
        "  YypX = list(zip(CAT2, Prediction2, X2))\n",
        "  deltaX0 = -2*sum( [(r-y)*y*(1-y)*x[0] for r,y,x in YypX] )\n",
        "  deltaX1 = -2*sum( [(r-y)*y*(1-y)*x[1] for r,y,x in YypX] )\n",
        "  deltaX2 = -2*sum( [(r-y)*y*(1-y)*x[2] for r,y,x in YypX] )\n",
        "  deltaX3 = -2*sum( [(r-y)*y*(1-y)*x[3] for r,y,x in YypX] )\n",
        "  deltaX4 = -2*sum( [(r-y)*y*(1-y)*x[4] for r,y,x in YypX] )\n",
        "  model2 = [model2[0]-(alpha*deltaX0), model2[1]-(alpha*deltaX1), model2[2]-(alpha*deltaX2), model2[3]-(alpha*deltaX3), model2[4]-(alpha*deltaX4)]\n",
        "  \n",
        "  iteration+=1\n",
        "  accuracy0.append((len([x for x,y  in zip(Prediction0,CAT0) if (k(x)==y)])))\n",
        "  accuracy1.append((len([x for x,y  in zip(Prediction1,CAT1) if (k(x)==y)])))\n",
        "  accuracy2.append((len([x for x,y  in zip(Prediction2,CAT2) if (k(x)==y)])))\n",
        "  iterations.append(iteration)\n",
        "\n",
        "\n",
        "\n",
        "\n",
        "plt.plot(iterations, accuracy0, \"red\")  #Number of correct classifications of setosa vs. versicolor\n",
        "plt.plot(iterations, accuracy1, \"blue\") #Number of correct classifications of virginica vs. versicolor\n",
        "plt.plot(iterations, accuracy2, \"green\")#Number of correct classifications of setosa vs. virginica\n",
        "\n",
        "print(\"Iteration: \",iteration)\n",
        "print(\"Number of points correctly classified:\",(len([x for x,y  in zip(Prediction0,CAT0) if (k(x)==y)])))\n",
        "print(\"Number of points correctly classified:\",(len([x for x,y  in zip(Prediction1,CAT1) if (k(x)==y)])))\n",
        "print(\"Number of points correctly classified:\",(len([x for x,y  in zip(Prediction2,CAT2) if (k(x)==y)])))"
      ],
      "execution_count": 298,
      "outputs": [
        {
          "output_type": "stream",
          "name": "stdout",
          "text": [
            "Iteration:  20\n",
            "Number of points correctly classified: 100\n",
            "Number of points correctly classified: 58\n",
            "Number of points correctly classified: 100\n"
          ]
        },
        {
          "output_type": "display_data",
          "data": {
            "image/png": "[encoded data removed]",
            "text/plain": [
              "<Figure size 432x288 with 1 Axes>"
            ]
          },
          "metadata": {
            "needs_background": "light"
          }
        }
      ]
    },
    {
      "cell_type": "code",
      "metadata": {
        "id": "OH84sR6G2A_0"
      },
      "source": [
        "print (iteration)\n",
        "plt.show()"
      ],
      "execution_count": null,
      "outputs": []
    },
    {
      "cell_type": "markdown",
      "metadata": {
        "id": "3UTmRdMaTu_m"
      },
      "source": [
        "Next here I 've implemented both the Squared Error derived gradient and the Cross-Entropy derived gradientm(or attempted to at least.) My implementation od Cross-Entropy seems to always produce a line that is skewed from where it ought to be."
      ]
    },
    {
      "cell_type": "code",
      "metadata": {
        "id": "B2U3jJZzJ4c5"
      },
      "source": [
        "TrainingData = [((1, 0, 0), 1), ((1, 1, 7), 0), ((1, -3, -2), 0), ((1, 8, 9), 1), ((1, 4, 3), 1), ((1, 5, -2), 1), ((1, 0, 0), 1), ((1, 6, 9), 1), ((1, 4, 2), 1), ((1, 1, -9), 1), ((1, -7, 7), 0), ((1, 0, -1), 1), ((1, 9, -4), 1), ((1, 1, 0), 1), ((1, -2, -5), 1), ((1, 2, 3), 1), ((1, -7, 2), 0), ((1, -3, 0), 0), ((1, 5, 0), 1), ((1, 0, -3), 1), ((1, -2, 3), 0), ((1, 9, 6), 1), ((1, 0, -8), 1), ((1, 0, 2), 0), ((1, -8, 6), 0), ((1, 1, 9), 0), ((1, 0, 5), 0), ((1, -4, 9), 0), ((1, 8, 2), 1), ((1, 2, 6), 0)]"
      ],
      "execution_count": 323,
      "outputs": []
    },
    {
      "cell_type": "code",
      "metadata": {
        "id": "8JSWX_2HJ4t7"
      },
      "source": [
        "TrainingData = [((1, 0, 0), 0), ((1, 1, 7), 0), ((1, -3, -2), 0), ((1, 8, 9), 1), ((1, 4, 3), 1), ((1, 5, -2), 1), ((1, 0, 0), 0), ((1, 6, 9), 1), ((1, 4, 2), 1), ((1, 1, -9), 1), ((1, -7, 7), 0), ((1, 0, -1), 1), ((1, 9, -4), 1), ((1, 1, 0), 1), ((1, -2, -5), 1), ((1, 2, 3), 1), ((1, -7, 2), 0), ((1, -3, 0), 0), ((1, 5, 0), 1), ((1, 0, -3), 1), ((1, -2, 3), 0), ((1, 9, 6), 1), ((1, 0, -8), 1), ((1, 0, 2), 1), ((1, -8, 6), 0), ((1, 1, 9), 0), ((1, 0, 5), 0), ((1, -4, 9), 0), ((1, 8, 2), 1), ((1, 2, 6), 0)]"
      ],
      "execution_count": 206,
      "outputs": []
    },
    {
      "cell_type": "code",
      "metadata": {
        "id": "m6g5fL1uJ44R"
      },
      "source": [
        "TrainingData = [((1, 2, 7), 0), ((1, 19, 72), 0), ((1, -39, -20), 0), ((1, 86, 95), 1), ((1, 45, 37), 1), ((1, 52, -23), 1), ((1, -8, -8), 0), ((1, 67, 93), 1), ((1, 46, 21), 1), ((1, 18, -97), 1), ((1, -78, 70), 0), ((1, -9, -17), 1), ((1, 94, -40), 1), ((1, 11, -3), 1), ((1, -24, -59), 1), ((1, 25, 33), 1), ((1, -71, 23), 0), ((1, -34, -7), 0), ((1, 55, -3), 1), ((1, -5, -33), 1), ((1, -22, 38), 0), ((1, 94, 66), 1), ((1, 4, -89), 1), ((1, -9, 26), 0), ((1, -83, 61), 0), ((1, 19, 98), 0), ((1, -1, 55), 0), ((1, -43, 90), 0), ((1, 86, 27), 1), ((1, 24, 69), 0)]"
      ],
      "execution_count": 279,
      "outputs": []
    },
    {
      "cell_type": "code",
      "metadata": {
        "id": "5Ok1D_v9KkWe"
      },
      "source": [
        "Weights = [.001, .001, .001]\n",
        "F = lambda W, X: sum([w*x for w,x in zip(W,X)])\n",
        "g = lambda y :1/(1+ np.exp(math.e*-y))\n",
        "def k(x):\n",
        "    if (x>.5):\n",
        "      return(1)\n",
        "    else:\n",
        "      return (0)"
      ],
      "execution_count": 324,
      "outputs": []
    },
    {
      "cell_type": "code",
      "metadata": {
        "id": "-ijnDrNOJq8w"
      },
      "source": [
        "X0 = [d for d,_ in TrainingData]\n",
        "Y0 = [(d[2]) for d,_ in TrainingData]\n",
        "CAT0 = [x for _,x in TrainingData]\n",
        "model0 = [0.0001, 0.0001, 0.0001] \n",
        "Prediction0 = [g(F(model0, x)) for x,_ in TrainingData]\n",
        "\n",
        "X1 = [d for d,_ in TrainingData]\n",
        "Y1 = [(d[2]) for d,_ in TrainingData]\n",
        "CAT1 = [x for _,x in TrainingData]\n",
        "model1 = [0.0001, 0.0001, 0.0001] \n",
        "Prediction1 = [g(F(model1, x)) for x,_ in TrainingData]\n",
        "alpha = .000001\n",
        "iteration = 0\n",
        "deltaX0s = []\n",
        "deltaX1s = []\n",
        "accuracy0 = []\n",
        "accuracy1 = []"
      ],
      "execution_count": 325,
      "outputs": []
    },
    {
      "cell_type": "markdown",
      "metadata": {
        "id": "NkxuyKvxxzew"
      },
      "source": [
        "I'm still doing some bug hunting here. My accuracy evaluater is breaking here for some reason. The graph still allow visual confirmation though."
      ]
    },
    {
      "cell_type": "code",
      "metadata": {
        "colab": {
          "base_uri": "https://localhost:8080/",
          "height": 375
        },
        "id": "idPuGKb9KFea",
        "outputId": "1bc78aa7-721a-4659-bf12-bfebe9b7a3e9"
      },
      "source": [
        "for _ in range(10):\n",
        "  Prediction0 = [g(F(model0, x)) for x,_ in data0]\n",
        "  YypX = list(zip(CAT0, Prediction0, X0))\n",
        "  deltaX0 = -2*sum( [(r-y)*y*(1-y)*x[0] for r,y,x in YypX] )\n",
        "  deltaX1 = -2*sum( [(r-y)*y*(1-y)*x[1] for r,y,x in YypX] )\n",
        "  deltaX2 = -2*sum( [(r-y)*y*(1-y)*x[2] for r,y,x in YypX] )\n",
        "  model0 = [model0[0]-(alpha*deltaX0), model0[1]-(alpha*deltaX1), model0[2]-(alpha*deltaX2)]\n",
        "  \n",
        "  Prediction1 = [g(F(model1, x)) for x,_ in data1] \n",
        "  YypX = list(zip(CAT1, Prediction1, X1))\n",
        "  deltaX0 = -sum( [(r-y)*x[0] for r,y,x in YypX] )\n",
        "  deltaX1 = -sum( [(r-y)*x[1] for r,y,x in YypX] )\n",
        "  deltaX2 = -sum( [(r-y)*x[2] for r,y,x in YypX] )\n",
        "  model1 = [model1[0]-(alpha*deltaX0), model1[1]-(alpha*deltaX1), model1[2]-(alpha*deltaX2)]\n",
        "  iteration+=1\n",
        "\n",
        "Line0 = [-model0[0]/model0[2],-model0[1]/model0[2]] \n",
        "LineYs0 = [(F(Line0, [x[0],x[1]])) for x,_ in TrainingData]\n",
        "plt.plot([x[1] for x in  X0], LineYs0, \"purple\")\n",
        "print (Line0)\n",
        "\n",
        "Line1 = [-model1[0]/model1[2],-model1[1]/model1[2]] \n",
        "LineYs1 = [(F(Line1, [x[0],x[1]])) for x,_ in TrainingData]\n",
        "plt.plot([x[1] for x in  X1], LineYs1, \"blue\")\n",
        "print (Line1)\n",
        "\n",
        "foo = [(d[1]) for d,_ in (x for x in TrainingData if ((x[1])==0))]\n",
        "bar = [(y[2]) for y,_ in (x for x in TrainingData if ((x[1])==0))]\n",
        "plt.plot(foo, bar,\"r+\")\n",
        "\n",
        "foo1 = [(d[1]) for d,_ in (x for x in TrainingData if ((x[1])==1))]\n",
        "bar1 = [(y[2]) for y,_ in (x for x in TrainingData if ((x[1])==1))]\n",
        "plt.plot(foo1, bar1,\"b+\")\n",
        "plt.show()\n",
        "\n",
        "\n",
        "accuracy0.append((len([x for x,y  in zip(Prediction0,CAT0) if (k(x)==y)])))\n",
        "accuracy1.append((len([x for x,y  in zip(Prediction1,CAT1) if (k(x)==y)])))\n",
        "iterations.append(iteration)\n",
        "\n",
        "\n",
        "\n",
        "\n",
        "#plt.plot(iterations, accuracy0, \"red\")  #Number of correct classifications of setosa vs. versicolor\n",
        "#plt.plot(iterations, accuracy1, \"blue\") #Number of correct classifications of virginica vs. versicolor\n",
        "\n",
        "\n",
        "print(\"Iteration: \",iteration)\n",
        "print(\"Number of points correctly classified:\",(len([x for x,y  in zip(Prediction0,CAT0) if (k(x)==y)])))\n",
        "print(\"Number of points correctly classified:\",(len([x for x,y  in zip(Prediction1,CAT1) if (k(x)==y)])))\n",
        "print(accuracy0)"
      ],
      "execution_count": 337,
      "outputs": [
        {
          "output_type": "stream",
          "name": "stdout",
          "text": [
            "[0.38561168339609775, 2.3896073945989302]\n",
            "[0.2313611545974339, 2.00926105730369]\n"
          ]
        },
        {
          "output_type": "display_data",
          "data": {
            "image/png": "[encoded data removed]",
            "text/plain": [
              "<Figure size 432x288 with 1 Axes>"
            ]
          },
          "metadata": {
            "needs_background": "light"
          }
        },
        {
          "output_type": "stream",
          "name": "stdout",
          "text": [
            "Iteration:  39\n",
            "Number of points correctly classified: 18\n",
            "Number of points correctly classified: 18\n",
            "[18, 18, 18, 18, 18, 18, 18, 18, 18, 18, 18, 18]\n"
          ]
        }
      ]
    },
    {
      "cell_type": "markdown",
      "metadata": {
        "id": "7vQ_AZL1yNnQ"
      },
      "source": [
        "Next up: Linear Regression! You know it, you love it, you miss the good old days when math made sense.\n"
      ]
    },
    {
      "cell_type": "code",
      "metadata": {
        "id": "6eK_0zxszrpm"
      },
      "source": [
        "Weights = [5, 2]\n",
        "F = lambda W, X: sum([w*x for w,x in zip(W,X)])\n",
        "dataX1 = range(-2, 11, 1)\n",
        "dataX0 = [1]*len(dataX1)\n",
        "data = list(zip(dataX0, dataX1))\n",
        "Y = [F(Weights, X) for X in data]"
      ],
      "execution_count": 338,
      "outputs": []
    },
    {
      "cell_type": "code",
      "metadata": {
        "id": "b4mp12c7z9I6"
      },
      "source": [
        "\n",
        "TrainingData = [((1, -2), 1), ((1, -1), 3), ((1, 0), 5), ((1, 1), 7), ((1, 2), 9), ((1, 3), 11), ((1, 4), 13), ((1, 5), 15), ((1, 6), 17), ((1, 7), 19), ((1, 8), 21), ((1, 9), 23), ((1, 10), 25)]"
      ],
      "execution_count": 339,
      "outputs": []
    },
    {
      "cell_type": "code",
      "metadata": {
        "id": "dki_sAUqz_4Q"
      },
      "source": [
        "TrainingData = [((1, -2), 6.39), ((1, -1), 16.51), ((1, 0), -3.11), ((1, 1), 10.79), ((1, 2), 11.62), ((1, 3), 23.24), ((1, 4), 18.27), ((1, 5), 27.58), ((1, 6), 22.21), ((1, 7), 5.12), ((1, 8), 8.86), ((1, 9), 10.69), ((1, 10), 14.82)]"
      ],
      "execution_count": 343,
      "outputs": []
    },
    {
      "cell_type": "code",
      "metadata": {
        "id": "mvuK-eh8MhLJ"
      },
      "source": [
        "data = TrainingData\n",
        "X = [(d[0], d[1]) for d,_ in data]\n",
        "Y = [y for _, y in data]\n",
        "alpha=0.003\n",
        "model=[0, 0, 0, 0]\n",
        "iteration = 0\n",
        "ErrorData = []\n",
        "AvgDeviation = []\n",
        "yPredicted = [F(model, x) for x in X]\n",
        "Error = sum([(r-y)**2.0 for r,y in zip(Y, yPredicted)])\n",
        "AvgDeviation.append(sum([(r-y) for r,y in zip(Y, yPredicted)])/len(Y))\n",
        "\n",
        "\n",
        "\n"
      ],
      "execution_count": 370,
      "outputs": []
    },
    {
      "cell_type": "code",
      "metadata": {
        "id": "QklqMHykOq2C",
        "colab": {
          "base_uri": "https://localhost:8080/",
          "height": 590
        },
        "outputId": "9ec8e0dc-7d44-4970-f599-f6b325d6324d"
      },
      "source": [
        "for _ in range(1):\n",
        "  yPredicted = [F(model, x) for x in X]\n",
        "  Error = sum([(r-y)**2.0 for r,y in zip(Y, yPredicted)])\n",
        "  AvgDeviation.append(sum([(r-y) for r,y in zip(Y, yPredicted)])/len(Y))\n",
        "  YypX = list(zip(Y, yPredicted, X))\n",
        "  deltaX0 = 1/len(Y)*sum( [(-2*(r-y)*x[0]) for r,y,x in YypX] )\n",
        "  deltaX1 = 1/len(Y)*sum( [(-2*(r-y)*x[1]) for r,y,x in YypX] )\n",
        "  model = [model[0]-alpha*deltaX0, model[1]-alpha*deltaX1]\n",
        "  iteration += 1\n",
        "  ErrorData.append([Error,iteration])\n",
        "print(\"Iteration: \", iteration, \"Error=\", Error)\n",
        "print(model)\n",
        "plt.plot(dataX1, yPredicted, \"g\")\n",
        "plt.plot(dataX1, Y, \"g+\")\n",
        "plt.show()\n",
        "print(\"Error over iteration:\")\n",
        "plt.plot([x for _,x in ErrorData], [y/100 for y,_ in ErrorData])\n",
        "plt.show()\n",
        "print(\"Average deviation from line:\", AvgDeviation[-1])\n",
        "\n"
      ],
      "execution_count": 375,
      "outputs": [
        {
          "output_type": "stream",
          "name": "stdout",
          "text": [
            "Iteration:  5 Error= 1875.8791903381293\n",
            "[0.324050307315637, 1.2278911404413304]\n"
          ]
        },
        {
          "output_type": "display_data",
          "data": {
            "image/png": "[encoded data removed]",
            "text/plain": [
              "<Figure size 432x288 with 1 Axes>"
            ]
          },
          "metadata": {
            "needs_background": "light"
          }
        },
        {
          "output_type": "stream",
          "name": "stdout",
          "text": [
            "Error over iteration:\n"
          ]
        },
        {
          "output_type": "display_data",
          "data": {
            "image/png": "[encoded data removed]",
            "text/plain": [
              "<Figure size 432x288 with 1 Axes>"
            ]
          },
          "metadata": {
            "needs_background": "light"
          }
        },
        {
          "output_type": "stream",
          "name": "stdout",
          "text": [
            "Average deviation from line: 8.747049609572318\n"
          ]
        }
      ]
    }
  ]
}