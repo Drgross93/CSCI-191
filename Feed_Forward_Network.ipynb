{
  "nbformat": 4,
  "nbformat_minor": 0,
  "metadata": {
    "colab": {
      "name": "Feed_Forward_Network.ipynb",
      "provenance": [],
      "authorship_tag": "ABX9TyNF1lHm6E2sl3XFjj5HZzBf",
      "include_colab_link": true
    },
    "kernelspec": {
      "name": "python3",
      "display_name": "Python 3"
    },
    "language_info": {
      "name": "python"
    }
  },
  "cells": [
    {
      "cell_type": "markdown",
      "metadata": {
        "id": "view-in-github",
        "colab_type": "text"
      },
      "source": [
        "<a href=\"https://colab.research.google.com/github/Drgross93/CSCI-191/blob/main/Feed_Forward_Network.ipynb\" target=\"_parent\"><img src=\"https://colab.research.google.com/assets/colab-badge.svg\" alt=\"Open In Colab\"/></a>"
      ]
    },
    {
      "cell_type": "code",
      "metadata": {
        "id": "gLCoJ3wyKis8"
      },
      "source": [
        "# Danie Gross, 11/2/21\n",
        "### Includes\n",
        "%matplotlib inline\n",
        "import matplotlib.pyplot as plt\n",
        "import math as math\n",
        "import numpy as np\n",
        "import pandas as pd"
      ],
      "execution_count": 6,
      "outputs": []
    },
    {
      "cell_type": "code",
      "metadata": {
        "colab": {
          "base_uri": "https://localhost:8080/"
        },
        "id": "_b7j7crgXViZ",
        "outputId": "9b72d0ec-266a-4a72-da50-c84690701042"
      },
      "source": [
        "w1 = (3.19304864, 9.93278091, -4.74659947)\n",
        "w2 = (-1.59451474, 9.97879746, 4.47953684)\n",
        "V1 = (0.32620883, -8.71647388, 8.39004239)\n",
        "test_points = [ (0,0), (0,1), (1,0), (1,1) ]\n",
        "tpoints = [(1,x1,x2) for x1,x2 in test_points]\n",
        "print (tpoints)"
      ],
      "execution_count": 16,
      "outputs": [
        {
          "output_type": "stream",
          "name": "stdout",
          "text": [
            "[(1, 0, 0), (1, 0, 1), (1, 1, 0), (1, 1, 1)]\n"
          ]
        }
      ]
    },
    {
      "cell_type": "code",
      "metadata": {
        "id": "QBLQnLFha_D6"
      },
      "source": [
        ""
      ],
      "execution_count": null,
      "outputs": []
    },
    {
      "cell_type": "code",
      "metadata": {
        "id": "EAPMMAZiNOg7"
      },
      "source": [
        "F = lambda W, X: sum([w*x for w,x in zip(W,X)])\n",
        "g = lambda y :1/(1+ np.exp(math.e*-y))\n",
        "#g = lambda y :1/(1+ math.exp(-y))\n",
        "def k(x):\n",
        "    if (x>.5):\n",
        "      return(1)\n",
        "    else:\n",
        "      return (0)"
      ],
      "execution_count": 27,
      "outputs": []
    },
    {
      "cell_type": "code",
      "metadata": {
        "colab": {
          "base_uri": "https://localhost:8080/"
        },
        "id": "igxo5ujhY7eh",
        "outputId": "2b2afa83-1dc9-482c-a8eb-91c2ea902dcb"
      },
      "source": [
        "z1 = [g(F(w1,x)) for x in tpoints ]\n",
        "z2 = [g(F(w2,x)) for x in tpoints ]\n",
        "print(z1)\n",
        "print(z2)\n"
      ],
      "execution_count": 28,
      "outputs": [
        {
          "output_type": "stream",
          "name": "stdout",
          "text": [
            "[0.9998300108759388, 0.014443115365783951, 0.9999999999999998, 0.9999999998717588]\n",
            "[0.01294085701333736, 0.9996073907970752, 0.9999999998735081, 0.9999999999999993]\n"
          ]
        }
      ]
    },
    {
      "cell_type": "code",
      "metadata": {
        "colab": {
          "base_uri": "https://localhost:8080/"
        },
        "id": "0JQB35E4bAFT",
        "outputId": "195521a9-aa78-40dd-bc10-46a9d7a00ae1"
      },
      "source": [
        "tpoints2 = [(1,x,y) for x,y in zip(z1,z2)]\n",
        "y1 = [g(F(V1,x)) for x in tpoints2 ]\n",
        "print(y1)\n",
        "classifification = list(k(x) for x in y1)\n",
        "print(classifification)"
      ],
      "execution_count": 29,
      "outputs": [
        {
          "output_type": "stream",
          "name": "stdout",
          "text": [
            "[1.6785146320324719e-10, 0.9999999999271094, 0.49984868612542993, 0.4998486876062659]\n",
            "[0, 1, 0, 0]\n"
          ]
        }
      ]
    }
  ]
}