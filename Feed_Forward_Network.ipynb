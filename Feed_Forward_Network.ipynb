{
  "nbformat": 4,
  "nbformat_minor": 0,
  "metadata": {
    "colab": {
      "name": "Feed_Forward_Network.ipynb",
      "provenance": [],
      "collapsed_sections": [],
      "authorship_tag": "ABX9TyPbRJ010kUm897shd3AEGrH",
      "include_colab_link": true
    },
    "kernelspec": {
      "name": "python3",
      "display_name": "Python 3"
    },
    "language_info": {
      "name": "python"
    }
  },
  "cells": [
    {
      "cell_type": "markdown",
      "metadata": {
        "id": "view-in-github",
        "colab_type": "text"
      },
      "source": [
        "<a href=\"https://colab.research.google.com/github/Drgross93/CSCI-191/blob/main/Feed_Forward_Network.ipynb\" target=\"_parent\"><img src=\"https://colab.research.google.com/assets/colab-badge.svg\" alt=\"Open In Colab\"/></a>"
      ]
    },
    {
      "cell_type": "code",
      "metadata": {
        "id": "gLCoJ3wyKis8"
      },
      "source": [
        "# Danie Gross, 11/2/21\n",
        "### Includes\n",
        "%matplotlib inline\n",
        "import matplotlib.pyplot as plt\n",
        "import math as math\n",
        "import numpy as np\n",
        "import pandas as pd\n",
        "import operator\n"
      ],
      "execution_count": 78,
      "outputs": []
    },
    {
      "cell_type": "code",
      "metadata": {
        "id": "EAPMMAZiNOg7"
      },
      "source": [
        "F = lambda W, X: sum([w*x for w,x in zip(W,X)])\n",
        "arrXint = lambda X,W: [w*X for w in W] #Technically this should really be called intXarr.\n",
        "def arrAdd(X):\n",
        "  print(X)\n",
        "  print(list((zip(X))))\n",
        "  print([sum(x) for (x) in (zip(X))])\n",
        "  return([sum(x) for x in list(zip(*X))])\n",
        "g = lambda y :1/(1+ np.exp(math.e*-y)) #Sigmoid Function\n",
        "#g = lambda y :1/(1+ math.exp(-y))\n",
        "def k(x):\n",
        "    if (x>.5):\n",
        "      return(1)\n",
        "    else:\n",
        "      return (0)\n",
        "\n"
      ],
      "execution_count": 264,
      "outputs": []
    },
    {
      "cell_type": "code",
      "metadata": {
        "colab": {
          "base_uri": "https://localhost:8080/"
        },
        "id": "_b7j7crgXViZ",
        "outputId": "7af3fc1d-d015-42e4-98de-893029714073"
      },
      "source": [
        "w1 = (-0.01, 0.01, 0.01)\n",
        "w2 = (-0.01, -0.01, -0.01)\n",
        "V1 = (-0.01, 0.01, -0.01)\n",
        "test_points = [ ( (0,0), 0 ), ( (0,1), 1 ), ( (1,0), 1), ( (1,1), 0 ) ]\n",
        "r = [x for _,x in test_points] \n",
        "tpoints = [(1,x1,x2) for ((x1,x2),y) in test_points]\n",
        "alpha = .3\n",
        "#print (tpoints)\n",
        "print(r)\n",
        "iteration = 0\n",
        "testarr0 = []\n",
        "testarr1 = []\n",
        "testarr2 = []\n",
        "testarr3 = []"
      ],
      "execution_count": 340,
      "outputs": [
        {
          "output_type": "stream",
          "name": "stdout",
          "text": [
            "[0, 1, 1, 0]\n"
          ]
        }
      ]
    },
    {
      "cell_type": "code",
      "metadata": {
        "colab": {
          "base_uri": "https://localhost:8080/",
          "height": 357
        },
        "id": "igxo5ujhY7eh",
        "outputId": "41551da1-e076-47dd-d188-06806f2c67d5"
      },
      "source": [
        "for _ in range(1):\n",
        "  z1 = [g(F(w1,x)) for x in tpoints ] #calculate for  Z\n",
        "  z2 = [g(F(w2,x)) for x in tpoints ]\n",
        "  zs = [(1,x,y) for x,y in (zip(z1,z2))] #repackage Zs as sets\n",
        "\n",
        "  #tpoints2 = [(1,x,y) for x,y in zip(z1,z2)] #I realize I did this twice don't tell my mom I'm so embarassed oh god!\n",
        "\n",
        "  y1 = [g(F(V1,x)) for x in zs ]\n",
        "\n",
        "  classifification = list(k(x) for x in y1)\n",
        "  #I'm fairly sure the calculation for my deltas is whacked, I'll fix this later.\n",
        "  deltaV1 = list(map(sum,[arrXint((r[i]-y1[i]),zs[i]) for i in range(3)]))\n",
        "  deltaw1 = list(map(sum,[arrXint((r[i]-y1[i])*V1[i]*z1[i]*(1-z1[i]),tpoints[i]) for i in range(3)]))\n",
        "  deltaw2 = list(map(sum,[arrXint((r[i]-y1[i])*V1[i]*z2[i]*(1-z2[i]),tpoints[i]) for i in range(3)]))\n",
        "\n",
        "\n",
        "  V1=list(map(sum,zip(arrXint(alpha,deltaV1),V1)))\n",
        "  w1=list(map(sum,zip(arrXint(alpha,deltaw1),w1)))\n",
        "  w2=list(map(sum,zip(arrXint(alpha,deltaw2),w2)))\n",
        "  testarr0.append(y1[0])\n",
        "  testarr1.append(y1[1])\n",
        "  testarr2.append(y1[2])\n",
        "  testarr3.append(y1[3])\n",
        "  iteration+=1\n",
        "\n",
        "print ( z1 )\n",
        "print ( z2 )\n",
        "#print( w1 )\n",
        "#print( w2 )\n",
        "#print( V1 )\n",
        "\n",
        "print(classifification)\n",
        "print(list(y1))\n",
        "print(r)\n",
        "plt.plot(range(iteration),testarr0,\"red\")\n",
        "plt.plot(range(iteration),testarr1,\"blue\")\n",
        "plt.plot(range(iteration),testarr2,\"green\")\n",
        "plt.plot(range(iteration),testarr3,\"purple\")\n",
        "plt.show()\n",
        "\n",
        "\n"
      ],
      "execution_count": 341,
      "outputs": [
        {
          "output_type": "stream",
          "name": "stdout",
          "text": [
            "[0.49320471384662123, 0.5, 0.5, 0.5067952861533788]\n",
            "[0.49320471384662123, 0.48641193745806677, 0.48641193745806677, 0.4796241768927129]\n",
            "[0, 0, 0, 0]\n",
            "[0.49320471384662123, 0.4932970374804055, 0.4932970374804055, 0.4933893274912496]\n",
            "[0, 1, 1, 0]\n"
          ]
        },
        {
          "output_type": "display_data",
          "data": {
            "image/png": "[encoded data removed]",
            "text/plain": [
              "<Figure size 432x288 with 1 Axes>"
            ]
          },
          "metadata": {
            "needs_background": "light"
          }
        }
      ]
    },
    {
      "cell_type": "code",
      "metadata": {
        "id": "ME0KgZAzaaFE"
      },
      "source": [
        "#This is just the dumping ground for snippets of test code. They're only here as a record of problems solved in the process of coding the notebook itself.\n",
        "#I've found that I sometimes have to solve the same problem twice, because I've forgotten to document it's existence.\n",
        "#print(arrXint([1,2,3],5))\n",
        "#print(list(map(sum,list(zip([1,2,3],[1,2,3],[1,2,3])))))\n",
        "#print(list(zip([1,2,3],[1,2,3],[1,2,3])))\n",
        "#print(arrAdd([[1,2,3],[1,2,3]]))\n",
        "#((map(lambda x:(((a-b)*c)*d*(1-d))*x,Xs) for a,b,c,d in zip(r,y1,V1,z1)) for Xs in tpoints)\n",
        "#print(list(map(lambda x:5*x,[1,2,3])))\n",
        "#print(zs)\n",
        "#print(z1)\n",
        "#print(z2)\n",
        "#print (delta1)\n",
        "#print(classifification)\n",
        "#print(y1)\n",
        "#print(  (r[0]-y1[0])*V1[0]*(1-V1[0])  )\n",
        "#print(list(range(3)))\n",
        "#print( list(zip(list((zip([arrXint((r[0]-y1[0])*V1[0]*(1-V1[0]),tpoints[i]) for i in range(3)]))))))\n",
        "#print( [arrXint((r[0]-y1[0])*V1[0]*(1-V1[0]),tpoints[i]) for i in range(3)])"
      ],
      "execution_count": null,
      "outputs": []
    }
  ]
}